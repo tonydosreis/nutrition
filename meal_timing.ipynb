{
 "cells": [
  {
   "attachments": {},
   "cell_type": "markdown",
   "metadata": {},
   "source": [
    "Variables: m1, m2 ... <br>\n",
    "Parameters: t_wake, t_sleep, t_gym, delta_wake, delta_gym, delta_sleep, n_meals\n",
    "\n",
    "### Equations\n",
    "\n",
    "Equal intervals\n",
    "m2 - m1 = m3 - m2 = m4 - m3\n",
    "\n",
    "- m2 - m1 = m3 - m2 -> m2 - m1 - m3 + m2 = 0 -> -1m1 + 2m2 - m3 + 0m4 = 0\n",
    "- m3 - m2 = m4 - m3 -> m3 - m2 - m4 + m3 = 0 -> 0m1 + - 1m2 + 2m3 - m4 = 0\n",
    "\n",
    "Having meals a certain time before or after certain activities\n",
    "\n",
    "- m1 = t_wake + delta_wake\n",
    "- m3 = t_gym - delta_gym\n",
    "- m4 = t_sleep - delta_sleep\n",
    "\n",
    "In matrix form:\n",
    "\n",
    "$$\n",
    "\\begin{gather}\n",
    "    \\begin{bmatrix}\n",
    "        -1 & 2 & -1 & 0\\\\\n",
    "        0 & -1 & 2 & -1\\\\\n",
    "        1 & 0 & 0 & 0 \\\\\n",
    "        0 & 0 & 1 & 0 \\\\\n",
    "        0 & 0 & 0 & 1\n",
    "    \\end{bmatrix}\n",
    "    =\n",
    "    \\begin{bmatrix}\n",
    "        0 \\\\\n",
    "        0 \\\\\n",
    "        t_{wake} + \\Delta_{wake} \\\\\n",
    "        t_{gym} - \\Delta_{gym} \\\\\n",
    "        t_{sleep} - \\Delta_{sleep} \\\\\n",
    "    \\end{bmatrix}\n",
    "\\end{gather}\n",
    "$$"
   ]
  }
 ],
 "metadata": {
  "kernelspec": {
   "display_name": "base",
   "language": "python",
   "name": "python3"
  },
  "language_info": {
   "codemirror_mode": {
    "name": "ipython",
    "version": 3
   },
   "file_extension": ".py",
   "mimetype": "text/x-python",
   "name": "python",
   "nbconvert_exporter": "python",
   "pygments_lexer": "ipython3",
   "version": "3.9.13"
  },
  "orig_nbformat": 4,
  "vscode": {
   "interpreter": {
    "hash": "5c4590bf2d3468efc31a2644735443d7129475db15d3a9123d91cb9c3c861e16"
   }
  }
 },
 "nbformat": 4,
 "nbformat_minor": 2
}
