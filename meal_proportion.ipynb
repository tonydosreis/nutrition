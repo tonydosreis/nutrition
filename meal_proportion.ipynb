{
 "cells": [
  {
   "attachments": {},
   "cell_type": "markdown",
   "metadata": {},
   "source": [
    "# To do\n",
    "\n",
    "- Integrate mixed-integer programming for certain foods that are discrete: eggs, bread, etc\n",
    "- Convert from grams to more appropriate measure: one egg instead of 50g of eggs, etc\n",
    "- Move food definition into a csv file, how would I instanciate them?\n",
    "- Weigh protein by protein quality, e.g. chicken protein would be better than rice protein"
   ]
  },
  {
   "cell_type": "code",
   "execution_count": 1,
   "metadata": {},
   "outputs": [],
   "source": [
    "from meal_proportion import Food, get_macros_per_meal, display_goal, MealSolver, display_meal"
   ]
  },
  {
   "cell_type": "code",
   "execution_count": 2,
   "metadata": {},
   "outputs": [
    {
     "name": "stdout",
     "output_type": "stream",
     "text": [
      "Name:                 Rice cals: 3.62/g     carbs: 0.79/g     proteins: 0.06/g     fats 0.00/g    \n",
      "Name:           Vegetables cals: 0.28/g     carbs: 0.03/g     proteins: 0.03/g     fats 0.01/g    \n",
      "Name:       Chicken breast cals: 0.89/g     carbs: 0.00/g     proteins: 0.21/g     fats 0.00/g    \n",
      "Name:           Canola oil cals: 8.57/g     carbs: 0.00/g     proteins: 0.00/g     fats 1.00/g    \n",
      "Name:      85% ground beef cals: 2.12/g     carbs: 0.00/g     proteins: 0.19/g     fats 0.15/g    \n",
      "Name:                 Eggs cals: 1.20/g     carbs: 0.00/g     proteins: 0.12/g     fats 0.08/g    \n",
      "Name:           Egg whites cals: 0.54/g     carbs: 0.00/g     proteins: 0.11/g     fats 0.00/g    \n",
      "Name:           whole milk cals: 0.62/ml    carbs: 0.05/ml    proteins: 0.03/ml    fats 0.03/ml   \n",
      "Name:              1% milk cals: 0.46/ml    carbs: 0.05/ml    proteins: 0.03/ml    fats 0.01/ml   \n",
      "Name:                Bread cals: 2.50/g     carbs: 0.50/g     proteins: 0.11/g     fats 0.04/g    \n"
     ]
    }
   ],
   "source": [
    "rice = Food(\"Rice\", \"g\", serving_size=47, cals =170, carbs=37, proteins=3, fats=0)\n",
    "vegetables = Food(\"Vegetables\", \"g\", serving_size=100, cals=28, carbs=3, proteins=3, fats=0.5)\n",
    "chicken = Food(\"Chicken breast\", \"g\", serving_size=112, cals=100, carbs=0, proteins=24, fats=0.5 )\n",
    "oil = Food(\"Canola oil\", \"g\", serving_size=14, cals=120, carbs =0, proteins=0,fats=14)\n",
    "ground_beef_85 = Food(\"85% ground beef\", \"g\", serving_size=113.4, cals = 240, carbs = 0, proteins=21, fats=17)\n",
    "eggs = Food(\"Eggs\", \"g\", serving_size=50, cals =60, carbs=0, proteins=6, fats=4)\n",
    "egg_whites = Food(\"Egg whites\", \"g\", serving_size=46, cals=25, carbs=0, proteins=5, fats=0)\n",
    "whole_milk = Food(\"whole milk\", \"ml\", serving_size=240, cals=150, carbs=12, proteins=8, fats=8 )\n",
    "one_percent_milk = Food(\"1% milk\", \"ml\", serving_size=240, cals=110, carbs=13, proteins=8, fats=2.5)\n",
    "bread = Food( \"Bread\", \"g\", serving_size=28, cals=70, carbs=14, proteins=3, fats=1 )\n",
    "\n",
    "print(rice)\n",
    "print(vegetables)\n",
    "print(chicken)\n",
    "print(oil)\n",
    "print(ground_beef_85)\n",
    "print(eggs)\n",
    "print(egg_whites)\n",
    "print(whole_milk)\n",
    "print(one_percent_milk)\n",
    "print(bread)"
   ]
  },
  {
   "cell_type": "code",
   "execution_count": 3,
   "metadata": {},
   "outputs": [
    {
     "name": "stdout",
     "output_type": "stream",
     "text": [
      "Goal:\n",
      "  cals: 550, proteins: 38g, fats 15g\n"
     ]
    }
   ],
   "source": [
    "#inputs\n",
    "bodyweight = 150\n",
    "n_meals = 4\n",
    "protein_ratio = 1\n",
    "fat_ratio = 0.4\n",
    "daily_cals = 2200\n",
    "\n",
    "cals_per_meal, protein_per_meal, fats_per_meal = get_macros_per_meal(bodyweight, protein_ratio, fat_ratio, daily_cals, n_meals)\n",
    "display_goal(cals_per_meal, protein_per_meal, fats_per_meal)"
   ]
  },
  {
   "cell_type": "code",
   "execution_count": 4,
   "metadata": {},
   "outputs": [
    {
     "name": "stdout",
     "output_type": "stream",
     "text": [
      "Goal:\n",
      "  cals: 550, proteins: 38g, fats 15g\n",
      "\n",
      "Meal:\n",
      "   -66g of Rice \n",
      "   -133g of 85% ground beef \n",
      "   -100g of Vegetables \n",
      "Macros:\n",
      "cals: 550, carbs: 55g, proteins: 32g, fats 20g\n"
     ]
    }
   ],
   "source": [
    "foods = [rice, ground_beef_85, vegetables]\n",
    "\n",
    "solver = MealSolver(foods)\n",
    "solver.add_total_constraint(\"proteins\",protein_per_meal)\n",
    "solver.add_total_constraint(\"cals\", cals_per_meal)\n",
    "solver.add_total_constraint(\"fats\", fats_per_meal)\n",
    "solver.add_quant_constraint(vegetables, 100)\n",
    "\n",
    "x, res = solver.solve()\n",
    "\n",
    "display_goal(cals_per_meal, protein_per_meal, fats_per_meal)\n",
    "print()\n",
    "display_meal(foods, x)"
   ]
  },
  {
   "attachments": {},
   "cell_type": "markdown",
   "metadata": {},
   "source": [
    "Breakfast"
   ]
  },
  {
   "cell_type": "code",
   "execution_count": 5,
   "metadata": {},
   "outputs": [
    {
     "name": "stdout",
     "output_type": "stream",
     "text": [
      "Current meal\n",
      "Meal:\n",
      "   -150g of Eggs \n",
      "   -92g of Egg whites \n",
      "   -360ml of whole milk \n",
      "Macros:\n",
      "cals: 455, carbs: 18g, proteins: 40g, fats 24g\n"
     ]
    }
   ],
   "source": [
    "print(\"Current meal\")\n",
    "display_meal([eggs, egg_whites, whole_milk],[150, 46*2,1.5*240])"
   ]
  },
  {
   "cell_type": "code",
   "execution_count": 6,
   "metadata": {},
   "outputs": [
    {
     "name": "stdout",
     "output_type": "stream",
     "text": [
      "!!! WARNING !!! Infinitely many solutions. Add 1 linearly independent equations to have a unique solution.\n",
      "Meal:\n",
      "   -118g of Eggs \n",
      "   -82g of Egg whites \n",
      "   -0ml of 1% milk \n",
      "   -145g of Bread \n",
      "Macros:\n",
      "cals: 550, carbs: 73g, proteins: 39g, fats 15g\n"
     ]
    }
   ],
   "source": [
    "#underdetermined problem\n",
    "\n",
    "foods = [eggs, egg_whites, one_percent_milk, bread]\n",
    "\n",
    "solver = MealSolver(foods)\n",
    "solver.add_total_constraint(\"proteins\",protein_per_meal)\n",
    "solver.add_total_constraint(\"cals\", cals_per_meal)\n",
    "solver.add_total_constraint(\"fats\", fats_per_meal)\n",
    "\n",
    "x, res = solver.solve()\n",
    "display_meal(foods, x)"
   ]
  }
 ],
 "metadata": {
  "kernelspec": {
   "display_name": "base",
   "language": "python",
   "name": "python3"
  },
  "language_info": {
   "codemirror_mode": {
    "name": "ipython",
    "version": 3
   },
   "file_extension": ".py",
   "mimetype": "text/x-python",
   "name": "python",
   "nbconvert_exporter": "python",
   "pygments_lexer": "ipython3",
   "version": "3.9.13"
  },
  "orig_nbformat": 4,
  "vscode": {
   "interpreter": {
    "hash": "5c4590bf2d3468efc31a2644735443d7129475db15d3a9123d91cb9c3c861e16"
   }
  }
 },
 "nbformat": 4,
 "nbformat_minor": 2
}
