{
 "cells": [
  {
   "attachments": {},
   "cell_type": "markdown",
   "metadata": {},
   "source": [
    "# To do\n",
    "\n",
    "- Move food definition into a csv file, how would I instanciate them?\n",
    "- Weigh protein by protein quality, e.g. chicken protein would be better than rice protein\n",
    "- Add comments\n",
    "- Include cells for ilustrating different features (bounds, discrete values, etc)"
   ]
  },
  {
   "cell_type": "code",
   "execution_count": 11,
   "metadata": {},
   "outputs": [],
   "source": [
    "from meal_proportion import Food, get_macros_per_meal, display_goal, MealSolver, display_meal"
   ]
  },
  {
   "cell_type": "code",
   "execution_count": 12,
   "metadata": {},
   "outputs": [
    {
     "name": "stdout",
     "output_type": "stream",
     "text": [
      "Name:                 Rice cals:   3.6/g     carbs:   0.8/g     proteins:   0.1/g     fats   0.0/g    \n",
      "Name:           Vegetables cals:   0.3/g     carbs:   0.0/g     proteins:   0.0/g     fats   0.0/g    \n",
      "Name:       Chicken breast cals:   0.9/g     carbs:   0.0/g     proteins:   0.2/g     fats   0.0/g    \n",
      "Name:           Canola oil cals:   8.6/g     carbs:   0.0/g     proteins:   0.0/g     fats   1.0/g    \n",
      "Name:      85% ground beef cals:   2.1/g     carbs:   0.0/g     proteins:   0.2/g     fats   0.1/g    \n",
      "Name:                 Eggs cals:  60.0/un    carbs:   0.0/un    proteins:   6.0/un    fats   4.0/un   \n",
      "Name:           Egg whites cals:   0.5/g     carbs:   0.0/g     proteins:   0.1/g     fats   0.0/g    \n",
      "Name:           whole milk cals:   0.6/ml    carbs:   0.1/ml    proteins:   0.0/ml    fats   0.0/ml   \n",
      "Name:              1% milk cals:   0.5/ml    carbs:   0.1/ml    proteins:   0.0/ml    fats   0.0/ml   \n",
      "Name:                Bread cals:  70.0/un    carbs:  14.0/un    proteins:   3.0/un    fats   1.0/un   \n"
     ]
    }
   ],
   "source": [
    "rice = Food(\"Rice\", \"g\", serving_size=47, cals =170, carbs=37, proteins=3, fats=0)\n",
    "vegetables = Food(\"Vegetables\", \"g\", serving_size=100, cals=28, carbs=3, proteins=3, fats=0.5)\n",
    "chicken = Food(\"Chicken breast\", \"g\", serving_size=112, cals=100, carbs=0, proteins=24, fats=0.5 )\n",
    "oil = Food(\"Canola oil\", \"g\", serving_size=14, cals=120, carbs =0, proteins=0,fats=14)\n",
    "ground_beef_85 = Food(\"85% ground beef\", \"g\", serving_size=113.4, cals = 240, carbs = 0, proteins=21, fats=17)\n",
    "eggs = Food(\"Eggs\", \"un\", serving_size=1, cals =60, carbs=0, proteins=6, fats=4, discrete=True)\n",
    "egg_whites = Food(\"Egg whites\", \"g\", serving_size=46, cals=25, carbs=0, proteins=5, fats=0)\n",
    "whole_milk = Food(\"whole milk\", \"ml\", serving_size=240, cals=150, carbs=12, proteins=8, fats=8 )\n",
    "one_percent_milk = Food(\"1% milk\", \"ml\", serving_size=240, cals=110, carbs=13, proteins=8, fats=2.5)\n",
    "bread = Food( \"Bread\", \"un\", serving_size=1, cals=70, carbs=14, proteins=3, fats=1 ,discrete=True) \n",
    "\n",
    "print(rice)\n",
    "print(vegetables)\n",
    "print(chicken)\n",
    "print(oil)\n",
    "print(ground_beef_85)\n",
    "print(eggs)\n",
    "print(egg_whites)\n",
    "print(whole_milk)\n",
    "print(one_percent_milk)\n",
    "print(bread)"
   ]
  },
  {
   "cell_type": "code",
   "execution_count": 13,
   "metadata": {},
   "outputs": [
    {
     "name": "stdout",
     "output_type": "stream",
     "text": [
      "Goal:\n",
      "  cals: 550, proteins: 38g, fats 19g\n"
     ]
    }
   ],
   "source": [
    "#inputs\n",
    "bodyweight = 150\n",
    "n_meals = 4\n",
    "protein_ratio = 1\n",
    "fat_ratio = 0.5\n",
    "daily_cals = 2200\n",
    "\n",
    "cals_per_meal, protein_per_meal, fats_per_meal = get_macros_per_meal(bodyweight, protein_ratio, fat_ratio, daily_cals, n_meals)\n",
    "display_goal(cals_per_meal, protein_per_meal, fats_per_meal)"
   ]
  },
  {
   "cell_type": "code",
   "execution_count": 14,
   "metadata": {},
   "outputs": [
    {
     "name": "stdout",
     "output_type": "stream",
     "text": [
      "Goal:\n",
      "  cals: 550, proteins: 38g, fats 19g\n",
      "\n",
      "Meal:\n",
      "   -58.9g of Rice \n",
      "   -146.0g of 85% ground beef \n",
      "   -100.1g of Vegetables \n",
      "Macros:\n",
      "cals: 550.1, carbs: 49.4g, proteins: 33.8g, fats 22.4g\n"
     ]
    }
   ],
   "source": [
    "foods = [rice, ground_beef_85, vegetables]\n",
    "\n",
    "solver = MealSolver(foods)\n",
    "solver.add_total_constraint(\"proteins\",protein_per_meal)\n",
    "solver.add_total_constraint(\"cals\", cals_per_meal)\n",
    "solver.add_total_constraint(\"fats\", fats_per_meal)\n",
    "solver.add_quant_constraint(vegetables, 100)\n",
    "\n",
    "x, res = solver.solve()\n",
    "\n",
    "display_goal(cals_per_meal, protein_per_meal, fats_per_meal)\n",
    "print()\n",
    "display_meal(foods, x)"
   ]
  },
  {
   "attachments": {},
   "cell_type": "markdown",
   "metadata": {},
   "source": [
    "Breakfast"
   ]
  },
  {
   "cell_type": "code",
   "execution_count": 15,
   "metadata": {},
   "outputs": [
    {
     "name": "stdout",
     "output_type": "stream",
     "text": [
      "Current meal\n",
      "Meal:\n",
      "   -3.0un of Eggs \n",
      "   -92.0g of Egg whites \n",
      "   -360.0ml of 1% milk \n",
      "   -1.0un of Bread \n",
      "Macros:\n",
      "cals: 465.0, carbs: 33.5g, proteins: 43.0g, fats 16.8g\n"
     ]
    }
   ],
   "source": [
    "print(\"Current meal\")\n",
    "display_meal([eggs, egg_whites, one_percent_milk, bread],[3, 46*2,1.5*240,1])"
   ]
  },
  {
   "cell_type": "code",
   "execution_count": 16,
   "metadata": {},
   "outputs": [
    {
     "name": "stdout",
     "output_type": "stream",
     "text": [
      "!!! WARNING !!! Infinitely many solutions. Add 1 linearly independent equations to have a unique solution.\n",
      "Meal:\n",
      "   -3.0un of Eggs \n",
      "   -6.1g of Egg whites \n",
      "   -155.8ml of 1% milk \n",
      "   -4.0un of Bread \n",
      "Macros:\n",
      "cals: 534.7, carbs: 64.4g, proteins: 35.9g, fats 17.6g\n"
     ]
    }
   ],
   "source": [
    "#underdetermined problem\n",
    "\n",
    "foods = [eggs, egg_whites, one_percent_milk, bread]\n",
    "\n",
    "solver = MealSolver(foods)\n",
    "solver.add_total_constraint(\"proteins\",protein_per_meal)\n",
    "solver.add_total_constraint(\"cals\", cals_per_meal)\n",
    "solver.add_total_constraint(\"fats\", fats_per_meal)\n",
    "\n",
    "x, res = solver.solve()\n",
    "display_meal(foods, x)"
   ]
  }
 ],
 "metadata": {
  "kernelspec": {
   "display_name": "base",
   "language": "python",
   "name": "python3"
  },
  "language_info": {
   "codemirror_mode": {
    "name": "ipython",
    "version": 3
   },
   "file_extension": ".py",
   "mimetype": "text/x-python",
   "name": "python",
   "nbconvert_exporter": "python",
   "pygments_lexer": "ipython3",
   "version": "3.9.13"
  },
  "orig_nbformat": 4,
  "vscode": {
   "interpreter": {
    "hash": "5c4590bf2d3468efc31a2644735443d7129475db15d3a9123d91cb9c3c861e16"
   }
  }
 },
 "nbformat": 4,
 "nbformat_minor": 2
}
