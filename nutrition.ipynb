{
 "cells": [
  {
   "attachments": {},
   "cell_type": "markdown",
   "metadata": {},
   "source": [
    "# To do\n",
    "\n",
    "- Deal with under determined problems\n",
    "- Integrate mixed-integer programing for certain foods that are discrete: eggs, bread, etc\n",
    "- Convert from grams to more appropriate measure: one egg instead of 50g of eggs, etc\n",
    "- Move food definition into a csv file, how would I instanceate them?\n",
    "- Maybe redo constraints to avoid having to pass foods every time"
   ]
  },
  {
   "cell_type": "code",
   "execution_count": 7,
   "metadata": {},
   "outputs": [],
   "source": [
    "import numpy as np\n",
    "from scipy import optimize\n",
    "\n",
    "class Food():\n",
    "    def __init__(self, name, unit, serving_size, cals, carbs, proteins, fats):\n",
    "        self.name = name\n",
    "        self.unit = unit\n",
    "        self.cals = cals/serving_size\n",
    "        self.carbs = carbs/serving_size\n",
    "        self.proteins = proteins/serving_size\n",
    "        self.fats = fats/serving_size\n",
    "    \n",
    "    def __str__(self):\n",
    "        return f\"Name: {self.name:>20}, cals: {self.cals:.2f}/g, carbs: {self.carbs:.2f}/g, proteins: {self.proteins:.2f}/g, fats {self.fats:.2f}/g\"\n",
    "\n",
    "    def get_attr(self, attr_name):\n",
    "        assert attr_name in [\"cals\", \"carbs\", \"proteins\", \"fats\", \"quantity\"]\n",
    "        if(attr_name == \"cals\"):\n",
    "            return self.cals\n",
    "        elif(attr_name == \"carbs\"):\n",
    "            return self.carbs\n",
    "        elif(attr_name == \"proteins\"):\n",
    "            return self.proteins\n",
    "        elif(attr_name == \"fats\"):\n",
    "            return self.fats\n",
    "        else:\n",
    "            return 1\n",
    "\n",
    "class Constraint():\n",
    "    def __init__(self, property, coef, b):\n",
    "        assert property in [\"cals\", \"carbs\", \"proteins\", \"fats\", \"quantity\"]\n",
    "        self.property = property\n",
    "        self.coef = np.array(coef)\n",
    "        self.b = b\n",
    "\n",
    "class TotalConstraint(Constraint):\n",
    "    def __init__(self, foods, property, total):\n",
    "        coef = len(foods)*[1]\n",
    "        super().__init__(property, coef,total)\n",
    "\n",
    "class QuantConstraint(Constraint):\n",
    "    def __init__(self, foods, food, quant):\n",
    "        i = foods.index(food)\n",
    "        coef = len(foods)*[0]\n",
    "        coef[i]=1\n",
    "        super().__init__(\"quantity\", coef, quant)\n",
    "\n",
    "def meal_prop(foods, constraints):\n",
    "    assert type(foods) == list\n",
    "    assert type(constraints) == list\n",
    "    n_foods = len(foods)\n",
    "    n_constraints = len(constraints)\n",
    "    \n",
    "    A = np.zeros((n_constraints,n_foods))\n",
    "    \n",
    "    b = np.zeros((n_constraints, 1))\n",
    "\n",
    "    for i in range(n_constraints):\n",
    "        constraint = constraints[i]\n",
    "        A[i,:] = np.array([food.get_attr(constraint.property) for food in foods])*constraint.coef\n",
    "        b[i] = constraint.b\n",
    "\n",
    "    bounds = (0, 1000)\n",
    "\n",
    "    x0 =np.random.uniform(low = bounds[0], high = bounds[1], size=(n_foods))\n",
    "\n",
    "    def fun(x):\n",
    "        return (A@x.reshape((-1,1)) - b).flatten()\n",
    "\n",
    "    out = optimize.least_squares( fun = fun,x0 = x0, bounds = bounds)\n",
    "\n",
    "    quant = out.x\n",
    "    res = out.fun\n",
    "\n",
    "    return quant, res\n",
    "\n",
    "def get_daily_macros(bodyweight, protein_ratio, fat_ratio):\n",
    "    daily_protein = bodyweight*protein_ratio\n",
    "    daily_fats = fat_ratio*bodyweight\n",
    "\n",
    "    return daily_protein, daily_fats\n",
    "\n",
    "def get_macros_per_meal(bodyweight, protein_ratio, fat_ratio, daily_cals, n_meals):\n",
    "    \"\"\"Calculates the macros for each meal in a day.\n",
    "    \n",
    "    Recommended values are for a gaining phase.\n",
    "\n",
    "    Args:\n",
    "        Bodyweight: bodyweight in pounds.\n",
    "        Protein Ratio: 1 is a standard value.\n",
    "        fat_ration: values between 0.3-0.5 are recommended.\n",
    "        daily_cals: Depends on experimentation and current weight gaining goal.\n",
    "        n_meals: Number of meals in a day, at least 4 is recommended.\n",
    "\n",
    "    Returns:\n",
    "        cals_per_meal\n",
    "        protein_per_meal\n",
    "        fats_per_meal\n",
    "    \"\"\"\n",
    "\n",
    "    daily_protein, daily_fats = get_daily_macros(bodyweight, protein_ratio, fat_ratio)\n",
    "\n",
    "    cals_per_meal = daily_cals/n_meals\n",
    "    protein_per_meal = daily_protein/n_meals\n",
    "    fats_per_meal = daily_fats/n_meals\n",
    "\n",
    "    return cals_per_meal, protein_per_meal, fats_per_meal\n",
    "\n",
    "def display_goal(cals_per_meal, protein_per_meal, fats_per_meal):\n",
    "    print(\"Goal:\")\n",
    "    print(f\"   cals: {cals_per_meal:.0f}, proteins: {protein_per_meal:.0f}g, fats {fats_per_meal:.0f}g\" )\n",
    "\n",
    "def display_meal(foods, quantity):\n",
    "    calories = 0\n",
    "    carbs = 0\n",
    "    proteins = 0\n",
    "    fats = 0\n",
    "\n",
    "    print(\"Meal:\")\n",
    "    for food, quant in zip(foods, quantity):\n",
    "        print(f\"   -{quant:.0f}g of {food.name} \")\n",
    "        calories += food.cals*quant\n",
    "        carbs += food.carbs*quant\n",
    "        proteins += food.proteins*quant\n",
    "        fats += food.fats*quant\n",
    "\n",
    "    print(\"Macros:\")\n",
    "    print(f\"   cals: {calories:.0f}, carbs: {carbs:.0f}g, proteins: {proteins:.0f}g, fats {fats:.0f}g\" )\n"
   ]
  },
  {
   "cell_type": "code",
   "execution_count": 8,
   "metadata": {},
   "outputs": [
    {
     "name": "stdout",
     "output_type": "stream",
     "text": [
      "Name:                 Rice, cals: 3.62/g, carbs: 0.79/g, proteins: 0.06/g, fats 0.00/g\n",
      "Name:           Vegetables, cals: 0.28/g, carbs: 0.03/g, proteins: 0.03/g, fats 0.01/g\n",
      "Name:       Chicken breast, cals: 0.89/g, carbs: 0.00/g, proteins: 0.21/g, fats 0.00/g\n",
      "Name:           Canola oil, cals: 8.57/g, carbs: 0.00/g, proteins: 0.00/g, fats 1.00/g\n",
      "Name:      85% ground beef, cals: 2.12/g, carbs: 0.00/g, proteins: 0.19/g, fats 0.15/g\n",
      "Name:                 Eggs, cals: 1.20/g, carbs: 0.00/g, proteins: 0.12/g, fats 0.08/g\n",
      "Name:           Egg whites, cals: 0.54/g, carbs: 0.00/g, proteins: 0.11/g, fats 0.00/g\n",
      "Name:           whole milk, cals: 0.62/g, carbs: 0.05/g, proteins: 0.03/g, fats 0.03/g\n",
      "Name:              1% milk, cals: 0.46/g, carbs: 0.05/g, proteins: 0.03/g, fats 0.01/g\n",
      "Name:                Bread, cals: 2.50/g, carbs: 0.50/g, proteins: 0.11/g, fats 0.04/g\n"
     ]
    }
   ],
   "source": [
    "rice = Food(\"Rice\", \"grams\", serving_size=47, cals =170, carbs=37, proteins=3, fats=0)\n",
    "vegetables = Food(\"Vegetables\", \"grams\", serving_size=100, cals=28, carbs=3, proteins=3, fats=0.5)\n",
    "chicken = Food(\"Chicken breast\", \"grams\", serving_size=112, cals=100, carbs=0, proteins=24, fats=0.5 )\n",
    "oil = Food(\"Canola oil\", \"grams\", serving_size=14, cals=120, carbs =0, proteins=0,fats=14)\n",
    "ground_beef_85 = Food(\"85% ground beef\", \"grams\", serving_size=113.4, cals = 240, carbs = 0, proteins=21, fats=17)\n",
    "eggs = Food(\"Eggs\", \"grams\", serving_size=50, cals =60, carbs=0, proteins=6, fats=4)\n",
    "egg_whites = Food(\"Egg whites\", \"grams\", serving_size=46, cals=25, carbs=0, proteins=5, fats=0)\n",
    "whole_milk = Food(\"whole milk\", \"ml\", serving_size=240, cals=150, carbs=12, proteins=8, fats=8 )\n",
    "one_percent_millk = Food(\"1% milk\", \"ml\", serving_size=240, cals=110, carbs=13, proteins=8, fats=2.5)\n",
    "bread = Food( \"Bread\", \"grams\", serving_size=28, cals=70, carbs=14, proteins=3, fats=1 )\n",
    "\n",
    "print(rice)\n",
    "print(vegetables)\n",
    "print(chicken)\n",
    "print(oil)\n",
    "print(ground_beef_85)\n",
    "print(eggs)\n",
    "print(egg_whites)\n",
    "print(whole_milk)\n",
    "print(one_percent_millk)\n",
    "print(bread)"
   ]
  },
  {
   "cell_type": "code",
   "execution_count": 9,
   "metadata": {},
   "outputs": [
    {
     "name": "stdout",
     "output_type": "stream",
     "text": [
      "Goal:\n",
      "   cals: 550, proteins: 38g, fats 15g\n"
     ]
    }
   ],
   "source": [
    "#inputs\n",
    "bodyweight = 150\n",
    "n_meals = 4\n",
    "protein_ratio = 1\n",
    "fat_ratio = 0.4\n",
    "daily_cals = 2200\n",
    "\n",
    "cals_per_meal, protein_per_meal, fats_per_meal = get_macros_per_meal(bodyweight, protein_ratio, fat_ratio, daily_cals, n_meals)\n",
    "display_goal(cals_per_meal, protein_per_meal, fats_per_meal)"
   ]
  },
  {
   "cell_type": "code",
   "execution_count": 10,
   "metadata": {},
   "outputs": [
    {
     "name": "stdout",
     "output_type": "stream",
     "text": [
      "Goal:\n",
      "   cals: 550, proteins: 38g, fats 15g\n",
      "\n",
      "Meal:\n",
      "   -66g of Rice \n",
      "   -133g of 85% ground beef \n",
      "   -100g of Vegetables \n",
      "Macros:\n",
      "   cals: 550, carbs: 55g, proteins: 32g, fats 20g\n"
     ]
    }
   ],
   "source": [
    "foods = [rice, ground_beef_85, vegetables]\n",
    "\n",
    "#not great having to feed foods to every constraint, maybe have a constraint glass that we feed the foods list to and then a method\n",
    "#that generates the individual constraints\n",
    "\n",
    "con_cal = TotalConstraint(foods, \"cals\", cals_per_meal)\n",
    "con_protein = TotalConstraint(foods, \"proteins\", protein_per_meal)\n",
    "con_fats = TotalConstraint(foods, \"fats\", fats_per_meal)\n",
    "con_veg = QuantConstraint(foods, vegetables, 100)\n",
    "\n",
    "constraints = [con_cal, con_protein, con_fats, con_veg]\n",
    "\n",
    "x, res = meal_prop(foods, constraints)\n",
    "\n",
    "cals_per_meal, protein_per_meal, fats_per_meal\n",
    "\n",
    "display_goal(cals_per_meal, protein_per_meal, fats_per_meal)\n",
    "print()\n",
    "display_meal(foods, x)"
   ]
  },
  {
   "attachments": {},
   "cell_type": "markdown",
   "metadata": {},
   "source": [
    "Breakfast"
   ]
  },
  {
   "cell_type": "code",
   "execution_count": 11,
   "metadata": {},
   "outputs": [
    {
     "name": "stdout",
     "output_type": "stream",
     "text": [
      "Current meal\n",
      "Meal:\n",
      "   -150g of Eggs \n",
      "   -92g of Egg whites \n",
      "   -360g of whole milk \n",
      "Macros:\n",
      "   cals: 455, carbs: 18g, proteins: 40g, fats 24g\n"
     ]
    }
   ],
   "source": [
    "print(\"Current meal\")\n",
    "display_meal([eggs, egg_whites, whole_milk],[150, 46*2,1.5*240])"
   ]
  },
  {
   "cell_type": "code",
   "execution_count": 12,
   "metadata": {},
   "outputs": [
    {
     "name": "stdout",
     "output_type": "stream",
     "text": [
      "Goal:\n",
      "   cals: 550, proteins: 38g, fats 15g\n",
      "\n",
      "Meal:\n",
      "   -104g of Eggs \n",
      "   -41g of Egg whites \n",
      "   -240g of 1% milk \n",
      "   -117g of Bread \n",
      "Macros:\n",
      "   cals: 550, carbs: 72g, proteins: 38g, fats 15g\n"
     ]
    }
   ],
   "source": [
    "foods = [eggs, egg_whites, one_percent_millk, bread]\n",
    "\n",
    "con_cal = TotalConstraint(foods, \"cals\", cals_per_meal)\n",
    "con_protein = TotalConstraint(foods, \"proteins\", protein_per_meal)\n",
    "con_fats = TotalConstraint(foods, \"fats\", fats_per_meal)\n",
    "con_milk = QuantConstraint(foods, one_percent_millk,240)\n",
    "\n",
    "constraints = [con_cal, con_protein, con_fats, con_milk]\n",
    "\n",
    "x, res = meal_prop(foods, constraints)\n",
    "\n",
    "cals_per_meal, protein_per_meal, fats_per_meal\n",
    "\n",
    "display_goal(cals_per_meal, protein_per_meal, fats_per_meal)\n",
    "print()\n",
    "display_meal(foods, x)"
   ]
  }
 ],
 "metadata": {
  "kernelspec": {
   "display_name": "base",
   "language": "python",
   "name": "python3"
  },
  "language_info": {
   "codemirror_mode": {
    "name": "ipython",
    "version": 3
   },
   "file_extension": ".py",
   "mimetype": "text/x-python",
   "name": "python",
   "nbconvert_exporter": "python",
   "pygments_lexer": "ipython3",
   "version": "3.9.12"
  },
  "orig_nbformat": 4,
  "vscode": {
   "interpreter": {
    "hash": "631735a5363e6f95a5eeb849080417a67bd30c24ad9ea3ddcc2756e1f56ebca3"
   }
  }
 },
 "nbformat": 4,
 "nbformat_minor": 2
}
